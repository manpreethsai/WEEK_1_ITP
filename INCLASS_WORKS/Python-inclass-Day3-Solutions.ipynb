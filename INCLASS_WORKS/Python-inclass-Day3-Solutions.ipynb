{
 "cells": [
  {
   "cell_type": "markdown",
   "metadata": {
    "colab_type": "text",
    "id": "pmVkVbWE14ZZ"
   },
   "source": [
    "### IF Statement "
   ]
  },
  {
   "cell_type": "markdown",
   "metadata": {
    "colab_type": "text",
    "id": "c7PV-Tj_14Zg"
   },
   "source": [
    "### Problems:"
   ]
  },
  {
   "cell_type": "raw",
   "metadata": {
    "colab_type": "text",
    "id": "pVze6BOv14Zl"
   },
   "source": [
    "1. Write a program to check whether x is less than y\n",
    "\n",
    "where, x = 20 and y = 30 "
   ]
  },
  {
   "cell_type": "raw",
   "metadata": {
    "colab_type": "raw",
    "id": "DHEWAlgh14Zo"
   },
   "source": [
    "Hint:\n",
    "Assign x equal to 20\n",
    "Assign y equal to 30\n",
    "If condition x is less than y, then \n",
    "print x is less then y"
   ]
  },
  {
   "cell_type": "code",
   "execution_count": 0,
   "metadata": {
    "colab": {},
    "colab_type": "code",
    "id": "dvN8VRCR14Zs"
   },
   "outputs": [],
   "source": [
    "x = 20\n",
    "y = 30\n",
    "if(x < y):\n",
    "    print(\"x is less than y\")\n"
   ]
  },
  {
   "cell_type": "raw",
   "metadata": {},
   "source": [
    "2. Write a program to check whether the total score (theory --> 100 + practical --> 100) is less than or equal to 200. \n",
    "If it goes beyond 200, print an error or a warning message.\n"
   ]
  },
  {
   "cell_type": "raw",
   "metadata": {
    "colab_type": "raw",
    "id": "SLrHZzf114Z7"
   },
   "source": [
    "Hint:\n",
    "\n",
    "Set, \n",
    "Theory equal to 140\n",
    "Practical equal to 145\n",
    "If condition for theory + practical is greater than 200 \n",
    "then, print invalid score"
   ]
  },
  {
   "cell_type": "code",
   "execution_count": 0,
   "metadata": {
    "colab": {},
    "colab_type": "code",
    "id": "PLbgTaCr14Z9",
    "outputId": "adf153be-6eab-4723-ccea-e222f157f61b"
   },
   "outputs": [
    {
     "name": "stdout",
     "output_type": "stream",
     "text": [
      "Invalid score\n"
     ]
    }
   ],
   "source": [
    "theory = 140\n",
    "practical = 145\n",
    "if(theory + practical > 200):\n",
    "    print(\"Invalid score\")"
   ]
  },
  {
   "cell_type": "markdown",
   "metadata": {
    "colab_type": "text",
    "id": "kEPQMqjJ14aJ"
   },
   "source": [
    "# If-else Statement"
   ]
  },
  {
   "cell_type": "raw",
   "metadata": {},
   "source": [
    "3. Write a python program to to check whether the student has passed the subject based on string input yes/no"
   ]
  },
  {
   "cell_type": "raw",
   "metadata": {
    "colab_type": "raw",
    "id": "etOTxwZK14aQ"
   },
   "source": [
    "Hint:\n",
    "\n",
    "Get an user input 'yes' / 'no' pass this to variable named 'Subject'\n",
    "Create a If condition, when the Subject value is 'yes' then print 'Cleared the test', Else print 'Failed the test'"
   ]
  },
  {
   "cell_type": "code",
   "execution_count": 0,
   "metadata": {
    "colab": {},
    "colab_type": "code",
    "id": "tyQ905ZI14aT",
    "outputId": "3034566d-493a-44ba-d510-f7a17f82cf38"
   },
   "outputs": [
    {
     "name": "stdout",
     "output_type": "stream",
     "text": [
      " yes\n",
      "Cleared the test.\n"
     ]
    }
   ],
   "source": [
    "Subject = input(\" \").lower()\n",
    "\n",
    "if Subject == \"yes\" :\n",
    "    print(\"Cleared the test.\")\n",
    "else :\n",
    "    print(\"Failed the test.\")\n",
    "\n"
   ]
  },
  {
   "cell_type": "raw",
   "metadata": {
    "colab_type": "text",
    "id": "Tq9ddCkL14ag"
   },
   "source": [
    "4. Write a program to get the password from user, check whether the password is 'great'. \n",
    "Through a reply to the user accordingly.\n"
   ]
  },
  {
   "cell_type": "raw",
   "metadata": {
    "colab_type": "raw",
    "id": "cVLe2FGv14ak"
   },
   "source": [
    "Hint:\n",
    "\n",
    "Get password from user, the input statement should be 'Enter the password: '\n",
    "pass this to variable named 'Password'\n",
    "If passwrod is 'great', print 'Password Accepted'\n",
    "else print  'Wrong Password'"
   ]
  },
  {
   "cell_type": "code",
   "execution_count": 0,
   "metadata": {
    "colab": {},
    "colab_type": "code",
    "id": "sUjiURXb14am",
    "outputId": "6d048ab0-d065-426b-ba5e-4fd6c8cc7296"
   },
   "outputs": [
    {
     "name": "stdout",
     "output_type": "stream",
     "text": [
      "Enter the password: great\n",
      "Password Accepted\n"
     ]
    }
   ],
   "source": [
    "password = input('Enter the password: ').lower()\n",
    "\n",
    "if password == 'great':\n",
    "    print('Password Accepted')\n",
    "\n",
    "else:\n",
    "    print('The wrong password.')"
   ]
  },
  {
   "cell_type": "markdown",
   "metadata": {
    "colab_type": "text",
    "id": "S6FbUpGT14av"
   },
   "source": [
    "###  Nested if Statement"
   ]
  },
  {
   "cell_type": "raw",
   "metadata": {
    "colab_type": "raw",
    "id": "QwIgUPnM14ax"
   },
   "source": [
    "1. Based on the users age, divide them in to three groups \n",
    "Group 1 : Age <=18 , Minors who are not eligible to work\n",
    "Group 2 : 18<Age<60 , ELigible to work\n",
    "Group 3 : >=60, Too old to work as per govt. regulations. \n",
    "\n",
    "Write a program for the same"
   ]
  },
  {
   "cell_type": "raw",
   "metadata": {
    "colab_type": "raw",
    "id": "zsaIuOaT14az"
   },
   "source": [
    "Hint:\n",
    "\n",
    "Create variable Name age equal to input \n",
    "if condition for age is < 18 go to step 3 , else go to step 5 \n",
    "print  Your Minor not Eligible to Work \n",
    "if condition for age >= 18 and age <= 60 go to step 5 , else go to step 6 \n",
    "print Your Eligible to Work fill in your details and apply \n",
    "print Your too old to work as per the Government rules  Please Collect your pension"
   ]
  },
  {
   "cell_type": "code",
   "execution_count": 0,
   "metadata": {
    "colab": {},
    "colab_type": "code",
    "id": "Tvzoc1AO14a0",
    "outputId": "bf59e90e-31ac-483c-eb76-35c5898647a9"
   },
   "outputs": [
    {
     "name": "stdout",
     "output_type": "stream",
     "text": [
      "6543\n",
      " Your too old to work as per the Government rules  Please Collect your pension\n"
     ]
    }
   ],
   "source": [
    "age = int(input())\n",
    "if age < 18:\n",
    "    print(\" Your Minor not Eligible to Work \") \n",
    "else:\n",
    "    if age >= 18 and age <= 60:\n",
    "        print(\" Your Eligible to Work fill in your details and apply \")\n",
    "    else:\n",
    "        print(\" Your too old to work as per the Government rules  Please Collect your pension\")\n"
   ]
  },
  {
   "cell_type": "markdown",
   "metadata": {
    "colab_type": "text",
    "id": "H3lo39_t14a4"
   },
   "source": [
    "# While Loop"
   ]
  },
  {
   "cell_type": "raw",
   "metadata": {
    "colab_type": "raw",
    "id": "Ea1RZBUm14a6"
   },
   "source": [
    "1. Take an integer as input from the user and print all the numbers from 0 to that number in reverse order. \n",
    "\n",
    "Example : if the input is 3, the output should be\n",
    "3\n",
    "2\n",
    "1"
   ]
  },
  {
   "cell_type": "raw",
   "metadata": {
    "colab_type": "raw",
    "id": "vQY7DC_914a7"
   },
   "source": [
    "Hint:\n",
    "\n",
    "Create variable n using input value\n",
    "give the while loop condition i.e. n > 0\n",
    "then decrement,  n = n-1\n",
    "print n"
   ]
  },
  {
   "cell_type": "code",
   "execution_count": 0,
   "metadata": {
    "colab": {},
    "colab_type": "code",
    "id": "GvCYJ10O14a9",
    "outputId": "aebd6606-8568-48b3-cd2f-2c478774c393"
   },
   "outputs": [
    {
     "name": "stdout",
     "output_type": "stream",
     "text": [
      "3\n",
      "2\n",
      "1\n",
      "0\n"
     ]
    }
   ],
   "source": [
    "n = int(input())\n",
    "while n > 0:\n",
    "    n -= 1\n",
    "    print(n)"
   ]
  },
  {
   "cell_type": "raw",
   "metadata": {
    "colab_type": "raw",
    "id": "xB43mqsp14bA"
   },
   "source": [
    "2.  Write a python code to find the squares of all the numbers based on an input. \n",
    "\n",
    "    Example : If the input is 10, the output should be\n",
    "    1*1 ,2*2 ,3*3...... 10*10"
   ]
  },
  {
   "cell_type": "raw",
   "metadata": {
    "colab_type": "raw",
    "id": "4lzjbGiB14bB"
   },
   "source": [
    "Hint:\n",
    "\n",
    "Create the variable i assigning to 1\n",
    "Give the while loop condition for i <= 10 \n",
    "print i ** 2\n",
    "increment i\n",
    "loop will execute until i is less than or equal to 10"
   ]
  },
  {
   "cell_type": "code",
   "execution_count": 0,
   "metadata": {
    "colab": {},
    "colab_type": "code",
    "id": "el1NTF-D14bC",
    "outputId": "b1fe65df-4a8d-47d1-e077-e1caf31d5931"
   },
   "outputs": [
    {
     "name": "stdout",
     "output_type": "stream",
     "text": [
      "1\n",
      "4\n",
      "9\n",
      "16\n",
      "25\n",
      "36\n",
      "49\n",
      "64\n",
      "81\n",
      "100\n"
     ]
    }
   ],
   "source": [
    "i = 1\n",
    "while i <= 10:\n",
    "    print(i ** 2)\n",
    "    i += 1"
   ]
  },
  {
   "cell_type": "markdown",
   "metadata": {
    "colab_type": "text",
    "id": "CN_IXEau14bF"
   },
   "source": [
    "# For Loop"
   ]
  },
  {
   "cell_type": "raw",
   "metadata": {
    "colab_type": "raw",
    "id": "YEiavOxY14bG"
   },
   "source": [
    "1. Write a pseudocode to print the multiplication table of a given number.\n",
    "\n",
    "Example : if the user input is 3, the output should be like below :  \n",
    "3 X 1 = 3\n",
    "3 X 2 = 6\n",
    "...\n",
    "3 X 10 =30"
   ]
  },
  {
   "cell_type": "raw",
   "metadata": {
    "colab_type": "raw",
    "id": "8KzGVdqm14bH"
   },
   "source": [
    "Hint:\n",
    "\n",
    "Get user input and store it in variable n.\n",
    "Give the For loop condition in the range between (1,11)\n",
    "In print statement give the condition (n,'x',i,'=' ,n*i)\n",
    "This will print the multiplication tables of a given number."
   ]
  },
  {
   "cell_type": "code",
   "execution_count": 0,
   "metadata": {
    "colab": {},
    "colab_type": "code",
    "id": "VNYiyYuq14bI",
    "outputId": "43321d66-0040-42ba-f1df-fccd3fd47c80",
    "scrolled": true
   },
   "outputs": [
    {
     "name": "stdout",
     "output_type": "stream",
     "text": [
      "7\n",
      "7 x 1 = 7\n",
      "7 x 2 = 14\n",
      "7 x 3 = 21\n",
      "7 x 4 = 28\n",
      "7 x 5 = 35\n",
      "7 x 6 = 42\n",
      "7 x 7 = 49\n",
      "7 x 8 = 56\n",
      "7 x 9 = 63\n",
      "7 x 10 = 70\n"
     ]
    }
   ],
   "source": [
    "n=int(input())\n",
    "for i in range(1,11):\n",
    "    print(n,\"x\",i,\"=\",n*i)"
   ]
  },
  {
   "cell_type": "raw",
   "metadata": {
    "colab_type": "text",
    "id": "ekiIBnlh14bM"
   },
   "source": [
    "2. Write a python code to print squares of all numbers present in the list = [1, 12, 24, 36, 11, 20,50]\n"
   ]
  },
  {
   "cell_type": "raw",
   "metadata": {
    "colab_type": "raw",
    "id": "7mXFDIdf14bO"
   },
   "source": [
    "Hint:\n",
    "\n",
    "Create a list named 'numbers' [1, 22, 14, 64, 31, 120]\n",
    "Create a variable name 'square' and assign 0 to it\n",
    "For loop condition for i in the list\n",
    "square equal to i * i  \n",
    "Print square"
   ]
  },
  {
   "cell_type": "code",
   "execution_count": 0,
   "metadata": {
    "colab": {},
    "colab_type": "code",
    "id": "lL5zwOSO14bP",
    "outputId": "ece13185-97b1-4a4e-a084-da68ecdf1a41",
    "scrolled": false
   },
   "outputs": [
    {
     "name": "stdout",
     "output_type": "stream",
     "text": [
      "1\n",
      "484\n",
      "196\n",
      "4096\n",
      "961\n",
      "14400\n"
     ]
    }
   ],
   "source": [
    "numbers = [1, 22, 14, 64, 31, 120]\n",
    "\n",
    "# variable to store the square of each num temporary\n",
    "square = 0\n",
    "\n",
    "# iterating over the given list\n",
    "for value in numbers:\n",
    "    # calculating square of each number\n",
    "    square = value * value\n",
    "    # displaying the squares\n",
    "    print(square)"
   ]
  },
  {
   "cell_type": "markdown",
   "metadata": {
    "colab_type": "text",
    "id": "PFvDUOgw14bT"
   },
   "source": [
    "# Additional Practice Programs"
   ]
  },
  {
   "cell_type": "raw",
   "metadata": {
    "colab_type": "text",
    "id": "cT6Fw4dx14bT"
   },
   "source": [
    "1. Write a python program that takes a list  ['red','black','blue']  and prints each element in the list using whle loop"
   ]
  },
  {
   "cell_type": "code",
   "execution_count": 0,
   "metadata": {
    "colab": {},
    "colab_type": "code",
    "id": "0MPxsKm414bU",
    "outputId": "4cd8b820-e31d-47f8-eaf8-57e32141b641",
    "scrolled": true
   },
   "outputs": [
    {
     "name": "stdout",
     "output_type": "stream",
     "text": [
      "red\n",
      "black\n",
      "blue\n"
     ]
    }
   ],
   "source": [
    "colors = ['red','black','blue']\n",
    "i = 0\n",
    "while i < len(colors):\n",
    "    print(colors[i])\n",
    "    i+=1"
   ]
  },
  {
   "cell_type": "raw",
   "metadata": {
    "colab_type": "text",
    "id": "gOs-zptN14bX"
   },
   "source": [
    "2. Write a same program as above using a For loop?"
   ]
  },
  {
   "cell_type": "code",
   "execution_count": 0,
   "metadata": {
    "colab": {},
    "colab_type": "code",
    "id": "eGuZhbqZ14bY",
    "outputId": "5bc6d89b-1766-4ba9-caee-847f352c17d2"
   },
   "outputs": [
    {
     "name": "stdout",
     "output_type": "stream",
     "text": [
      "red\n",
      "black\n",
      "blue\n"
     ]
    }
   ],
   "source": [
    "colors = ['red','black','blue']\n",
    "for i in range (len(colors)):\n",
    "    print(colors[i])"
   ]
  },
  {
   "cell_type": "raw",
   "metadata": {
    "colab_type": "text",
    "id": "RHyv4VTs14bc"
   },
   "source": [
    "3. Write a Python Program to find the LCM of two numbers?"
   ]
  },
  {
   "cell_type": "code",
   "execution_count": 0,
   "metadata": {
    "colab": {},
    "colab_type": "code",
    "id": "KfDH3iA714be",
    "outputId": "3989309f-cd81-4ec4-fb3f-e1da86f8fc43",
    "scrolled": true
   },
   "outputs": [
    {
     "name": "stdout",
     "output_type": "stream",
     "text": [
      "43\n",
      "654\n",
      "LCM is: 28122\n"
     ]
    }
   ],
   "source": [
    "a=int(input())\n",
    "b=int(input())\n",
    "if(a>b):\n",
    "    variable=a\n",
    "else:\n",
    "    variable=b\n",
    "while(1):\n",
    "    if(variable%a==0 and variable%b==0):\n",
    "        print(\"LCM is:\",variable)\n",
    "        break\n",
    "    variable=variable+1"
   ]
  },
  {
   "cell_type": "markdown",
   "metadata": {
    "colab_type": "text",
    "id": "YXcKf7m914bh"
   },
   "source": [
    "##### Explanation:"
   ]
  },
  {
   "cell_type": "markdown",
   "metadata": {
    "colab_type": "raw",
    "id": "CpOlbpcm14bi"
   },
   "source": [
    "1.User must enter both the numbers and store it in separate variables.\n",
    "2.An if statement is used to find out which of the numbers is smaller and store in a variable.\n",
    "3.Then a while loop is used whose condition is always true (or 1) unless break is used.\n",
    "4.Then an if statement within the loop is used to check whether the value in the variable is divisible by both the numbers.\n",
    "5.If it is divisible, break statement breaks out of the loop.\n",
    "6.If it is not divisible, the value in the variable is incremented.\n",
    "7.The final LCM is printed."
   ]
  },
  {
   "cell_type": "raw",
   "metadata": {
    "colab_type": "text",
    "id": "sGStHL6N14bn"
   },
   "source": [
    "4. Python Program to find the sum of series: 1 + 1/2 + 1/3 + ….. + 1/N."
   ]
  },
  {
   "cell_type": "code",
   "execution_count": 5,
   "metadata": {
    "colab": {
     "base_uri": "https://localhost:8080/",
     "height": 51
    },
    "colab_type": "code",
    "executionInfo": {
     "elapsed": 4572,
     "status": "ok",
     "timestamp": 1582708233678,
     "user": {
      "displayName": "Sudha B G",
      "photoUrl": "",
      "userId": "11454725486752146023"
     },
     "user_tz": -330
    },
    "id": "qa7NrSS514bo",
    "outputId": "aa04d48f-ad8e-46cc-e4e3-5033e060af60",
    "scrolled": true
   },
   "outputs": [
    {
     "name": "stdout",
     "output_type": "stream",
     "text": [
      "3\n",
      "The sum of series is 1.83\n"
     ]
    }
   ],
   "source": [
    "n=int(input())\n",
    "summation=0\n",
    "for i in range(1,n+1):\n",
    "    summation=summation+(1/i)\n",
    "print(\"The sum of series is\",round(summation,2))"
   ]
  },
  {
   "cell_type": "markdown",
   "metadata": {
    "colab_type": "text",
    "id": "cxSxTbKt14bq"
   },
   "source": [
    "#### Explanation"
   ]
  },
  {
   "cell_type": "markdown",
   "metadata": {
    "colab_type": "text",
    "id": "bTSYU4pa14br"
   },
   "source": [
    "    1.User must enter the number of terms to find the sum of.\n",
    "    2.The summation variable is initialized to 0.\n",
    "    3.The for loop is used to find the summation of the series and the number is incremented for each iteration.\n",
    "    4.The numbers are added to the summation variable and this continues till the value of i reaches the number of terms.\n",
    "    5.Then the summation of the series is printed."
   ]
  },
  {
   "cell_type": "markdown",
   "metadata": {
    "colab_type": "text",
    "id": "IITMrdXN14bs"
   },
   "source": [
    "# List Comprehensions"
   ]
  },
  {
   "cell_type": "raw",
   "metadata": {
    "colab_type": "text",
    "id": "BEIiHe0Y14bs"
   },
   "source": [
    "1. \n",
    "\n",
    "i. Write a Python program to get the squares of numbers present in the range of (1-10) \n",
    "\n",
    "* output squares = [0, 1, 4, 9, 16, 25, 36, 49, 64, 81, 100]"
   ]
  },
  {
   "cell_type": "code",
   "execution_count": 0,
   "metadata": {
    "colab": {},
    "colab_type": "code",
    "id": "nHM5Wh-414bt",
    "outputId": "eb4c469f-93a6-47a5-cbc3-f9ec9087acba",
    "scrolled": true
   },
   "outputs": [
    {
     "data": {
      "text/plain": [
       "[0, 1, 4, 9, 16, 25, 36, 49, 64, 81, 100]"
      ]
     },
     "execution_count": 6,
     "metadata": {
      "tags": []
     },
     "output_type": "execute_result"
    }
   ],
   "source": [
    "squares = []\n",
    "for i in range(11):\n",
    "    squares.append(i*i)\n",
    "squares"
   ]
  },
  {
   "cell_type": "raw",
   "metadata": {
    "colab_type": "text",
    "id": "Jw6SF81D14bw"
   },
   "source": [
    "ii. For the same question get the desired output using List Comprehension"
   ]
  },
  {
   "cell_type": "code",
   "execution_count": 0,
   "metadata": {
    "colab": {},
    "colab_type": "code",
    "id": "xeNeTaS614bw",
    "outputId": "a3bf4054-f88f-48c6-f0a2-1327fac0fd86",
    "scrolled": true
   },
   "outputs": [
    {
     "data": {
      "text/plain": [
       "[0, 1, 4, 9, 16, 25, 36, 49, 64, 81, 100]"
      ]
     },
     "execution_count": 7,
     "metadata": {
      "tags": []
     },
     "output_type": "execute_result"
    }
   ],
   "source": [
    "squares = [i*i for i in range(11)]\n",
    "squares"
   ]
  },
  {
   "cell_type": "raw",
   "metadata": {
    "colab_type": "text",
    "id": "DHQ457yd14by"
   },
   "source": [
    "2. Convert a list of integers to a list of strings, using List comprehension"
   ]
  },
  {
   "cell_type": "code",
   "execution_count": 0,
   "metadata": {
    "colab": {},
    "colab_type": "code",
    "id": "ub8yF2TU14bz",
    "outputId": "3aca4877-22b6-457c-dcc1-9c3c85db6a99"
   },
   "outputs": [
    {
     "data": {
      "text/plain": [
       "['0', '1', '2', '3', '4', '5']"
      ]
     },
     "execution_count": 20,
     "metadata": {
      "tags": []
     },
     "output_type": "execute_result"
    }
   ],
   "source": [
    "my_list = [0,1,2,3,4,5]\n",
    "[str(x) for x in my_list]"
   ]
  },
  {
   "cell_type": "raw",
   "metadata": {
    "colab_type": "text",
    "id": "YsNgez9x14b1"
   },
   "source": [
    "3. Create tuples from two lists using List Comprehensions\n",
    "\n",
    "Hint:\n",
    "list1 =[0,1]\n",
    "list2 =['zero','one']\n",
    "\n",
    "Output:\n",
    "[(0, 'zero'), (0, 'one'), (1, 'zero'), (1, 'one')]"
   ]
  },
  {
   "cell_type": "code",
   "execution_count": 0,
   "metadata": {
    "colab": {},
    "colab_type": "code",
    "id": "blDj5kHM14b2",
    "outputId": "ec81041b-e26a-45ce-ef71-925399435a1e"
   },
   "outputs": [
    {
     "data": {
      "text/plain": [
       "[(0, 'zero'), (0, 'one'), (1, 'zero'), (1, 'one')]"
      ]
     },
     "execution_count": 24,
     "metadata": {
      "tags": []
     },
     "output_type": "execute_result"
    }
   ],
   "source": [
    "list1 =[0,1]\n",
    "list2 =['zero','one']\n",
    "[(x,y) for x in list1 for y in list2]"
   ]
  },
  {
   "cell_type": "raw",
   "metadata": {
    "colab_type": "text",
    "id": "sbNBqNY614b5"
   },
   "source": [
    "4. Get Index of Each Element of List using enumerate in List Comprehension"
   ]
  },
  {
   "cell_type": "code",
   "execution_count": 0,
   "metadata": {
    "colab": {},
    "colab_type": "code",
    "id": "taF8c8yZ14b6",
    "outputId": "4777632a-a01a-40da-f1eb-6f1c927c320e"
   },
   "outputs": [
    {
     "data": {
      "text/plain": [
       "[(0, 'a'), (1, 'b'), (2, 'c'), (3, 'd'), (4, 'e')]"
      ]
     },
     "execution_count": 26,
     "metadata": {
      "tags": []
     },
     "output_type": "execute_result"
    }
   ],
   "source": [
    "list= ['a','b','c','d','e']\n",
    "[(i,j) for (i,j) in enumerate(list)]"
   ]
  }
 ],
 "metadata": {
  "colab": {
   "name": "Python-inclass-Day3.ipynb",
   "provenance": []
  },
  "kernelspec": {
   "display_name": "Python 3",
   "language": "python",
   "name": "python3"
  },
  "language_info": {
   "codemirror_mode": {
    "name": "ipython",
    "version": 3
   },
   "file_extension": ".py",
   "mimetype": "text/x-python",
   "name": "python",
   "nbconvert_exporter": "python",
   "pygments_lexer": "ipython3",
   "version": "3.7.3"
  }
 },
 "nbformat": 4,
 "nbformat_minor": 1
}
