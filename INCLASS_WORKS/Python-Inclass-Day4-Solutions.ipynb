{
 "cells": [
  {
   "cell_type": "markdown",
   "metadata": {
    "colab_type": "text",
    "id": "-3IBZtYhl3s2"
   },
   "source": [
    "#### 1. Write a Python function to multiply all the numbers in a list."
   ]
  },
  {
   "cell_type": "code",
   "execution_count": 0,
   "metadata": {
    "colab": {},
    "colab_type": "code",
    "id": "b4gZr5TJl3s5",
    "outputId": "1bb77f23-69bf-4da7-f916-0c0496588ce7"
   },
   "outputs": [
    {
     "name": "stdout",
     "output_type": "stream",
     "text": [
      "-255394944000\n"
     ]
    }
   ],
   "source": [
    "def functin(numbers):  \n",
    "    total = 1\n",
    "    for x in numbers:\n",
    "        total *= x  \n",
    "    return total  \n",
    "print(functin((1,3,2,4,6,3,68,45,575,8, 2, 3, -1, 7)))"
   ]
  },
  {
   "cell_type": "markdown",
   "metadata": {
    "colab_type": "text",
    "id": "XjrLK6JWl3tA"
   },
   "source": [
    "#### 2. Write a Python function to reverse a string \n",
    "##### i) use for loop\n",
    "##### ii) use while loop "
   ]
  },
  {
   "cell_type": "code",
   "execution_count": 0,
   "metadata": {
    "colab": {},
    "colab_type": "code",
    "id": "ckJVaIScl3tC",
    "outputId": "2f4b0e95-2191-499c-ec76-54ac5d564d87"
   },
   "outputs": [
    {
     "name": "stdout",
     "output_type": "stream",
     "text": [
      "654321123456QWERTYUKJHGFDSA\n"
     ]
    }
   ],
   "source": [
    "def reverse(string):\n",
    "    rstr1 = ''\n",
    "    index = len(string)\n",
    "    while index > 0:\n",
    "        rstr1 += string[ index - 1 ]\n",
    "        index = index - 1\n",
    "    return rstr1\n",
    "print(reverse('ASDFGHJKUYTREWQ654321123456'))"
   ]
  },
  {
   "cell_type": "markdown",
   "metadata": {
    "colab_type": "text",
    "id": "Zh7dogfIl3tJ"
   },
   "source": [
    "###### 3. Write a function to add and subtract two variables"
   ]
  },
  {
   "cell_type": "code",
   "execution_count": 0,
   "metadata": {
    "colab": {},
    "colab_type": "code",
    "id": "dppmDvUJl3tN",
    "outputId": "d285da27-65c1-4b16-a5d0-e709efbd3405"
   },
   "outputs": [
    {
     "name": "stdout",
     "output_type": "stream",
     "text": [
      "21 -3\n"
     ]
    },
    {
     "data": {
      "text/plain": [
       "(21, -3)"
      ]
     },
     "execution_count": 3,
     "metadata": {
      "tags": []
     },
     "output_type": "execute_result"
    }
   ],
   "source": [
    "def addsub (a,b):\n",
    "    add = a + b\n",
    "    sub = a-b\n",
    "    print(add,sub)\n",
    "    return add,sub\n",
    "addsub(9,12)"
   ]
  },
  {
   "cell_type": "markdown",
   "metadata": {
    "colab_type": "text",
    "id": "qE8eZnd9l3tR"
   },
   "source": [
    "###### 4. Write a function to check the number is divisible by 12"
   ]
  },
  {
   "cell_type": "code",
   "execution_count": 0,
   "metadata": {
    "colab": {},
    "colab_type": "code",
    "id": "uHAUEMrOl3tS"
   },
   "outputs": [],
   "source": [
    "def div (x):\n",
    "    if x%12 == 0:\n",
    "        print(\"yes\")\n",
    "    else:\n",
    "        print(\"No\")\n",
    "        return(x)"
   ]
  },
  {
   "cell_type": "markdown",
   "metadata": {
    "colab_type": "text",
    "id": "tGWWQNGsl3tV"
   },
   "source": [
    "###### 5. Write a function to calculate the number of days and weeks"
   ]
  },
  {
   "cell_type": "code",
   "execution_count": 0,
   "metadata": {
    "colab": {},
    "colab_type": "code",
    "id": "odotUzLAl3tV",
    "outputId": "54ebf036-afed-4633-aef6-e0c5703cb99b",
    "scrolled": true
   },
   "outputs": [
    {
     "data": {
      "text/plain": [
       "'1 week(s) and 6 day(s)'"
      ]
     },
     "execution_count": 5,
     "metadata": {
      "tags": []
     },
     "output_type": "execute_result"
    }
   ],
   "source": [
    "def calc(days):\n",
    "    weeks = days//7\n",
    "    remainder = days%7\n",
    "    return \"{} week(s) and {} day(s)\".format(weeks, remainder)\n",
    "calc(13) "
   ]
  },
  {
   "cell_type": "markdown",
   "metadata": {
    "colab_type": "text",
    "id": "dOuT_kJ-l3tX"
   },
   "source": [
    "#### 6.Write a Python function to Find the 5!?"
   ]
  },
  {
   "cell_type": "code",
   "execution_count": 0,
   "metadata": {
    "colab": {},
    "colab_type": "code",
    "id": "Hhmj0f_nl3tY",
    "outputId": "c5deea88-3bb8-4bf1-92c6-49446bb3f1d6"
   },
   "outputs": [
    {
     "data": {
      "text/plain": [
       "120"
      ]
     },
     "execution_count": 6,
     "metadata": {
      "tags": []
     },
     "output_type": "execute_result"
    }
   ],
   "source": [
    "def factorial(n):\n",
    "    if n == 0:\n",
    "        return 1\n",
    "    else:\n",
    "        return n * factorial(n-1)\n",
    "factorial(n = 5)"
   ]
  },
  {
   "cell_type": "markdown",
   "metadata": {
    "colab_type": "text",
    "id": "NiTxym-ll3ta"
   },
   "source": [
    "#### 7. Write a Python function to find the unique elements of the list = [1,2,3,3,3,3,4,5,4,2,4,2,4,4,2,4,5,4,34,654,5,7,6,5,4,3]\n"
   ]
  },
  {
   "cell_type": "code",
   "execution_count": 0,
   "metadata": {
    "colab": {},
    "colab_type": "code",
    "id": "ctU6zx1Ol3tb",
    "outputId": "15391dbf-6397-4e02-8a75-8a65973da2ad"
   },
   "outputs": [
    {
     "name": "stdout",
     "output_type": "stream",
     "text": [
      "[1, 2, 3, 4, 5, 34, 654, 7, 6]\n"
     ]
    }
   ],
   "source": [
    "def uniquelist(l):\n",
    "  x = []\n",
    "  for a in l:\n",
    "    if a not in x:\n",
    "      x.append(a)\n",
    "  return x\n",
    "print(uniquelist([1,2,3,3,3,3,4,5,4,2,4,2,4,4,2,4,5,4,34,654,5,7,6,5,4,3])) \n"
   ]
  },
  {
   "cell_type": "markdown",
   "metadata": {
    "colab_type": "text",
    "id": "faVTtapNl3td"
   },
   "source": [
    "#### Types of arguments\n",
    "\n",
    "\n",
    "    1. Required arguments\n",
    "    2. Keyword arguments\n",
    "    3. Default arguments\n",
    "   "
   ]
  },
  {
   "cell_type": "markdown",
   "metadata": {
    "colab_type": "text",
    "id": "iad9mTzEl3td"
   },
   "source": [
    "####  1. Required arguments: \n",
    "#### Write a program to calculate Simple Interest which accepts three arguments and returns the simple interest accordingly"
   ]
  },
  {
   "cell_type": "code",
   "execution_count": 0,
   "metadata": {
    "colab": {},
    "colab_type": "code",
    "id": "WEbf6Odil3te",
    "outputId": "339814c0-1c8c-407d-ef02-4cf318359833",
    "scrolled": true
   },
   "outputs": [
    {
     "name": "stdout",
     "output_type": "stream",
     "text": [
      "amount? 2\n",
      "interest? 3\n",
      "years? 4\n",
      "Simple Interest:  0.24\n"
     ]
    }
   ],
   "source": [
    "def simple_interest(p,t,r):  \n",
    "    return (p*t*r)/100  \n",
    "p = float(input(\"amount? \"))  \n",
    "r = float(input(\"interest? \"))  \n",
    "t = float(input(\"years? \"))  \n",
    "print(\"Simple Interest: \",simple_interest(p,r,t))  "
   ]
  },
  {
   "cell_type": "markdown",
   "metadata": {
    "colab_type": "text",
    "id": "XQE9DL5ml3tg"
   },
   "source": [
    "#### 2.Keyword arguments:\n",
    "#### Write a function which will be called with the name and message as the keyword arguments. Output will be \"printing the message with 'name' and  'message'\""
   ]
  },
  {
   "cell_type": "code",
   "execution_count": 0,
   "metadata": {
    "colab": {},
    "colab_type": "code",
    "id": "I02o1Zxul3tg",
    "outputId": "cdb59fe0-5689-4317-a48a-e93412d536b7"
   },
   "outputs": [
    {
     "name": "stdout",
     "output_type": "stream",
     "text": [
      "printing the message with vema and  hello\n"
     ]
    }
   ],
   "source": [
    "def Function(name,message):  \n",
    "    print(\"printing the message with\",name,\"and \",message)  \n",
    "Function(name = \"vema\",message=\"hello\")"
   ]
  },
  {
   "cell_type": "markdown",
   "metadata": {
    "colab_type": "text",
    "id": "dYVuuEcKl3ti"
   },
   "source": [
    "#### 3.Default Arguments:\n",
    "#### Write a function which will be called with the name as keyword argument and age as the default arguments. Output will be \"My name is 'name' and 'age is 27'\""
   ]
  },
  {
   "cell_type": "code",
   "execution_count": 0,
   "metadata": {
    "colab": {},
    "colab_type": "code",
    "id": "mrp66Dy9l3tj",
    "outputId": "6193e2a8-cc82-44ee-d330-691e48a2dc0b",
    "scrolled": true
   },
   "outputs": [
    {
     "name": "stdout",
     "output_type": "stream",
     "text": [
      "My name is vema and age is 27\n"
     ]
    }
   ],
   "source": [
    "def printme(name,age=27):  \n",
    "    print(\"My name is\",name,\"and age is\",age)  \n",
    "printme(name = \"vema\") "
   ]
  },
  {
   "cell_type": "markdown",
   "metadata": {
    "colab_type": "text",
    "id": "QXO5BzrVl3tl"
   },
   "source": [
    "### lambda function"
   ]
  },
  {
   "cell_type": "markdown",
   "metadata": {
    "colab_type": "text",
    "id": "hbI96BGRl3tl"
   },
   "source": [
    "#### 1. Get a number from user,  find if it is even or odd number?"
   ]
  },
  {
   "cell_type": "code",
   "execution_count": 0,
   "metadata": {
    "colab": {},
    "colab_type": "code",
    "id": "HMFaj_HUl3tm",
    "outputId": "982a9bbc-e1c5-40a2-be63-7d2c2c93a3bf",
    "scrolled": true
   },
   "outputs": [
    {
     "name": "stdout",
     "output_type": "stream",
     "text": [
      "2\n",
      "0\n"
     ]
    }
   ],
   "source": [
    "remainder = lambda num: num % 2\n",
    "\n",
    "print(remainder(int(input())))  "
   ]
  },
  {
   "cell_type": "markdown",
   "metadata": {
    "colab_type": "text",
    "id": "tAAPuSEol3tn"
   },
   "source": [
    "#### 2. Take a input from user and  square it"
   ]
  },
  {
   "cell_type": "code",
   "execution_count": 0,
   "metadata": {
    "colab": {},
    "colab_type": "code",
    "id": "FOwPB8Zcl3to",
    "outputId": "ca31261b-1e80-4c7f-9062-b0487cf76fe1"
   },
   "outputs": [
    {
     "name": "stdout",
     "output_type": "stream",
     "text": [
      "4\n",
      "16\n"
     ]
    }
   ],
   "source": [
    "product = lambda x : x * x\n",
    "\n",
    "print(product(int(input())))  "
   ]
  },
  {
   "cell_type": "markdown",
   "metadata": {
    "colab_type": "text",
    "id": "Le3MsRTyl3tq"
   },
   "source": [
    "#### 3. Write a lambda function using logical operators?"
   ]
  },
  {
   "cell_type": "raw",
   "metadata": {},
   "source": [
    "Hint:\n",
    "Check x < 10\n",
    "Output: False / True"
   ]
  },
  {
   "cell_type": "code",
   "execution_count": 0,
   "metadata": {
    "colab": {},
    "colab_type": "code",
    "id": "J3nagg4-l3tq",
    "outputId": "76c32ae4-a688-4a92-a2d9-e4603c5d7d11",
    "scrolled": false
   },
   "outputs": [
    {
     "name": "stdout",
     "output_type": "stream",
     "text": [
      "False\n",
      "True\n"
     ]
    }
   ],
   "source": [
    "func = lambda x: x < 10\n",
    "print(func(22))\n",
    "print(func(9))"
   ]
  },
  {
   "cell_type": "markdown",
   "metadata": {
    "colab_type": "text",
    "id": "5CzsLcFvl3ts"
   },
   "source": [
    "#### 4. Take an integer input from the user,  add 5 to the number and print it back?"
   ]
  },
  {
   "cell_type": "code",
   "execution_count": 0,
   "metadata": {
    "colab": {},
    "colab_type": "code",
    "id": "x58qruJYl3tt",
    "outputId": "55924c34-24d1-4bad-ae01-2dc358e18389"
   },
   "outputs": [
    {
     "name": "stdout",
     "output_type": "stream",
     "text": [
      "2\n",
      "7\n"
     ]
    }
   ],
   "source": [
    "add5 = lambda x: x + 5\n",
    "print(add5(int(input())))"
   ]
  },
  {
   "cell_type": "markdown",
   "metadata": {
    "colab_type": "text",
    "id": "zhhbY2vSl3tv"
   },
   "source": [
    "### Map"
   ]
  },
  {
   "cell_type": "markdown",
   "metadata": {
    "colab_type": "text",
    "id": "HO4yHqWXl3tv"
   },
   "source": [
    "#### 1. Add two lists using map ()\n",
    "     lis1 = [12, 24, 36] \n",
    "     lis2 = [41, 54, 69] \n",
    "     \n",
    "     Output:\n",
    "     [53, 78, 105]"
   ]
  },
  {
   "cell_type": "code",
   "execution_count": 0,
   "metadata": {
    "colab": {},
    "colab_type": "code",
    "id": "_OlQdB8rl3tw",
    "outputId": "9fbc6027-f514-4535-cc52-0d41d1072a77",
    "scrolled": true
   },
   "outputs": [
    {
     "name": "stdout",
     "output_type": "stream",
     "text": [
      "[53, 78, 105]\n"
     ]
    }
   ],
   "source": [
    "lis1 = [12, 24, 36] \n",
    "lis2 = [41, 54, 69] \n",
    "result = map(lambda x, y: x + y, lis1, lis2) \n",
    "print(list(result)) "
   ]
  },
  {
   "cell_type": "markdown",
   "metadata": {
    "colab_type": "text",
    "id": "Xvm1pOool3ty"
   },
   "source": [
    "#### 2. Use Lambda and map functions on a List, to square each element in the list = [1, 2, 3, 4, 5, 6, 7]"
   ]
  },
  {
   "cell_type": "code",
   "execution_count": 0,
   "metadata": {
    "colab": {},
    "colab_type": "code",
    "id": "zRYuPWBQl3tz",
    "outputId": "5d9bb6bb-4d55-44c2-92fa-940c445e18a8",
    "scrolled": true
   },
   "outputs": [
    {
     "name": "stdout",
     "output_type": "stream",
     "text": [
      "[1, 4, 9, 16, 25, 36, 49]\n"
     ]
    }
   ],
   "source": [
    "list1 = [1, 2, 3, 4, 5, 6, 7]\n",
    "list2 = list(map(lambda x: x ** 2, list1))\n",
    "print(list2)"
   ]
  },
  {
   "cell_type": "markdown",
   "metadata": {
    "colab_type": "text",
    "id": "uAnZplZrl3t3"
   },
   "source": [
    "#### 3.In the given list [1, 2, 3, 4, 5, 6, 7], find the even and odd elements in the list, use the map()function"
   ]
  },
  {
   "cell_type": "code",
   "execution_count": 2,
   "metadata": {
    "colab": {
     "base_uri": "https://localhost:8080/",
     "height": 34
    },
    "colab_type": "code",
    "executionInfo": {
     "elapsed": 842,
     "status": "ok",
     "timestamp": 1583064176352,
     "user": {
      "displayName": "Sudha B G",
      "photoUrl": "",
      "userId": "11454725486752146023"
     },
     "user_tz": -330
    },
    "id": "W13tGH-Hl3t4",
    "outputId": "0f6fa67a-cf3f-460d-e64b-93e77dd879d5",
    "scrolled": true
   },
   "outputs": [
    {
     "name": "stdout",
     "output_type": "stream",
     "text": [
      "[False, True, False, True, False, True, False]\n"
     ]
    }
   ],
   "source": [
    "list1 = [1, 2, 3, 4, 5, 6, 7]\n",
    "list2 = list(map(lambda x: x %2==0, list1))\n",
    "print(list2)"
   ]
  },
  {
   "cell_type": "markdown",
   "metadata": {
    "colab_type": "text",
    "id": "G3w98-dsl3t5"
   },
   "source": [
    "#### 4. In the given list [11, 12, 13, 14, 435, 6, 27], perform the Floor division using 7 on each elements on the list"
   ]
  },
  {
   "cell_type": "code",
   "execution_count": 0,
   "metadata": {
    "colab": {},
    "colab_type": "code",
    "id": "f1ZJPYckl3t6",
    "outputId": "92456934-92ee-44ed-a273-4c26b28e4d00"
   },
   "outputs": [
    {
     "name": "stdout",
     "output_type": "stream",
     "text": [
      "[1, 1, 1, 2, 62, 0, 3]\n"
     ]
    }
   ],
   "source": [
    "list1 = [11, 12, 13, 14, 435, 6, 27]\n",
    "list2 = list(map(lambda x: x // 7, list1))\n",
    "print(list2)"
   ]
  },
  {
   "cell_type": "markdown",
   "metadata": {
    "colab_type": "text",
    "id": "2OAQPdobl3t8"
   },
   "source": [
    "## Filter"
   ]
  },
  {
   "cell_type": "markdown",
   "metadata": {
    "colab_type": "text",
    "id": "kE4s-lJMl3t9"
   },
   "source": [
    "#### 1.Using the given list lis1 = [3,12, 24, 36,43,654,65432,2,654,455,43,543] filter the numbers in list which are not divisible by 2"
   ]
  },
  {
   "cell_type": "code",
   "execution_count": 0,
   "metadata": {
    "colab": {},
    "colab_type": "code",
    "id": "wTrNDAhtl3t-",
    "outputId": "bc6a0e78-32b2-47f7-b225-35cb29e304e7"
   },
   "outputs": [
    {
     "name": "stdout",
     "output_type": "stream",
     "text": [
      "[3, 43, 455, 43, 543]\n"
     ]
    }
   ],
   "source": [
    "lis1 = [3,12, 24, 36,43,654,65432,2,654,455,43,543,34]\n",
    "result = filter(lambda x: x%2!=0, lis1) \n",
    "print(list(result)) "
   ]
  },
  {
   "cell_type": "markdown",
   "metadata": {
    "colab_type": "text",
    "id": "M5R7vhell3uA"
   },
   "source": [
    "#### 2.For a given list1 = [1, 2, 3, 4, 5, 6] filter only the even numbers."
   ]
  },
  {
   "cell_type": "code",
   "execution_count": 0,
   "metadata": {
    "colab": {},
    "colab_type": "code",
    "id": "u-utOJ9ul3uA",
    "outputId": "763dac4b-4e70-43a6-d574-a1ce22ffc089"
   },
   "outputs": [
    {
     "name": "stdout",
     "output_type": "stream",
     "text": [
      "[2, 4, 6]\n"
     ]
    }
   ],
   "source": [
    "list1 = [1, 2, 3, 4, 5, 6]\n",
    "list2 = list(filter(lambda x: x%2 == 0, list1))\n",
    "print(list2)"
   ]
  },
  {
   "cell_type": "markdown",
   "metadata": {
    "colab_type": "text",
    "id": "M9RJQXjyl3uC"
   },
   "source": [
    "#### 3. For a given list = [2,3,5,3,6,3,7,4,6,7] filter only the even numbers using user defined function.\n"
   ]
  },
  {
   "cell_type": "code",
   "execution_count": 0,
   "metadata": {
    "colab": {},
    "colab_type": "code",
    "id": "2b6ZRSxMl3uC",
    "outputId": "8c59f690-0b54-4172-b138-ba67a98b73f7"
   },
   "outputs": [
    {
     "name": "stdout",
     "output_type": "stream",
     "text": [
      "[2, 6, 4, 6]\n"
     ]
    }
   ],
   "source": [
    "\n",
    "def even_fn(x):\n",
    "    if x % 2 == 0:\n",
    "        return True\n",
    "        return False\n",
    "\n",
    "print(list(filter(even_fn,[2,3,5,3,6,3,7,4,6,7])))\n"
   ]
  },
  {
   "cell_type": "markdown",
   "metadata": {
    "colab_type": "text",
    "id": "oGTnhTVxl3uE"
   },
   "source": [
    "#### 4. For a given list = [1, 12, 31, 4, 15, 6, 7] filter only the odd numbers using user defined function.\n"
   ]
  },
  {
   "cell_type": "code",
   "execution_count": 0,
   "metadata": {
    "colab": {},
    "colab_type": "code",
    "id": "axac_ziHl3uE",
    "outputId": "2dfa3362-cf6a-48ff-c5bf-462e40e78465"
   },
   "outputs": [
    {
     "name": "stdout",
     "output_type": "stream",
     "text": [
      "[1, 31, 15, 7]\n"
     ]
    }
   ],
   "source": [
    "def even_fn(x):\n",
    "    if x % 2 == 1:\n",
    "        return True\n",
    "        return False\n",
    "\n",
    "print(list(filter(even_fn,[1, 12, 31, 4, 15, 6, 7])))\n"
   ]
  },
  {
   "cell_type": "markdown",
   "metadata": {
    "colab_type": "text",
    "id": "ZFPR6h6Hl3uG"
   },
   "source": [
    " ## Reduce"
   ]
  },
  {
   "cell_type": "markdown",
   "metadata": {
    "colab_type": "text",
    "id": "7qgQtZ-Bl3uI"
   },
   "source": [
    "#### 1.For list = [1, 2, 3, 4] multiply all the elements (use reduce function)"
   ]
  },
  {
   "cell_type": "code",
   "execution_count": 0,
   "metadata": {
    "colab": {},
    "colab_type": "code",
    "id": "yBKN1GX1l3uJ",
    "outputId": "6b4caace-4617-4113-ec9b-975e1fa07106"
   },
   "outputs": [
    {
     "data": {
      "text/plain": [
       "24"
      ]
     },
     "execution_count": 7,
     "metadata": {
      "tags": []
     },
     "output_type": "execute_result"
    }
   ],
   "source": [
    "from functools import reduce\n",
    "reduce((lambda x, y: x * y), [1, 2, 3, 4])\n"
   ]
  },
  {
   "cell_type": "markdown",
   "metadata": {
    "colab_type": "text",
    "id": "15-AO209l3uN"
   },
   "source": [
    "#### 2. For list = [ 11 , 13, 15, 16, 2,43 ]  sum all the elements (use reduce function)"
   ]
  },
  {
   "cell_type": "code",
   "execution_count": 0,
   "metadata": {
    "colab": {},
    "colab_type": "code",
    "id": "ivQLtSwEl3uN",
    "outputId": "7b728b0f-6a5c-41eb-9b84-7144e62843ff"
   },
   "outputs": [
    {
     "name": "stdout",
     "output_type": "stream",
     "text": [
      "The sum of the list elements is : 67901\n"
     ]
    }
   ],
   "source": [
    "list = [ 11 , 13, 15, 16, 2,43 ] \n",
    "  \n",
    "# using reduce to compute sum of list \n",
    "print (\"The sum of the list elements is : \",end=\"\") \n",
    "print (reduce(lambda a,b : a+b,lis1)) \n",
    "  "
   ]
  },
  {
   "cell_type": "markdown",
   "metadata": {
    "colab_type": "text",
    "id": "FJhxeKoil3uQ"
   },
   "source": [
    "#### 3. Find the maximum value in the list = [543,7,6,4567,7,78,6,6,78,765,678] (use reduce function)"
   ]
  },
  {
   "cell_type": "code",
   "execution_count": 0,
   "metadata": {
    "colab": {},
    "colab_type": "code",
    "id": "kxS8al_yl3uR",
    "outputId": "1079224d-cb0a-48a8-c720-e7d97b892966",
    "scrolled": false
   },
   "outputs": [
    {
     "name": "stdout",
     "output_type": "stream",
     "text": [
      "The maximum element of the list is : 4567\n"
     ]
    }
   ],
   "source": [
    "list  = [543,7,6,4567,7,78,6,6,78,765,678]\n",
    "print (\"The maximum element of the list is : \",end=\"\") \n",
    "print (reduce(lambda a,b : a if a > b else b,list)) "
   ]
  },
  {
   "cell_type": "markdown",
   "metadata": {
    "colab_type": "text",
    "id": "Jzt8FI5Nl3uS"
   },
   "source": [
    "#### 4. Find the minimum value in the list= [543,7,6,4567,7,78,6,6,78,765,678] (use reduce function)"
   ]
  },
  {
   "cell_type": "code",
   "execution_count": 0,
   "metadata": {
    "colab": {},
    "colab_type": "code",
    "id": "jBsPlYiul3uT",
    "outputId": "1270326e-576b-4fc2-d1cc-2201383a9034"
   },
   "outputs": [
    {
     "name": "stdout",
     "output_type": "stream",
     "text": [
      "The minmum element of the list is : 6\n"
     ]
    }
   ],
   "source": [
    "list  = [543,7,6,4567,7,78,6,6,78,765,678,]\n",
    "print (\"The minmum element of the list is : \",end=\"\") \n",
    "print (reduce(lambda a,b : a if a < b else b,list)) "
   ]
  }
 ],
 "metadata": {
  "colab": {
   "name": "Inclass-day4-Answers.ipynb",
   "provenance": []
  },
  "kernelspec": {
   "display_name": "Python 3",
   "language": "python",
   "name": "python3"
  },
  "language_info": {
   "codemirror_mode": {
    "name": "ipython",
    "version": 3
   },
   "file_extension": ".py",
   "mimetype": "text/x-python",
   "name": "python",
   "nbconvert_exporter": "python",
   "pygments_lexer": "ipython3",
   "version": "3.7.3"
  }
 },
 "nbformat": 4,
 "nbformat_minor": 1
}
