{
 "cells": [
  {
   "cell_type": "code",
   "execution_count": null,
   "metadata": {},
   "outputs": [],
   "source": [
    "# 1) Rule to be followed\n",
    "\n",
    "# 1) Minimum 8 characters\n",
    "# 2) Should be a Alphanumeric(aleast one alphabet and one number)\n",
    "# 3) Should contain minimum 1 special Character -[!@#$%^&*]\n",
    "# 4) password should not be same as the username\n",
    "\n",
    "# If password satisfies all the condition, print password is valid, if it not satisying, print the condition which are not satisfying.\n",
    "\n",
    "# Input : username : greatlearning\n",
    "#         password : abc1\n",
    "\n",
    "# Output :\n",
    "#          Password is invalid\n",
    "#          Reason:\n",
    "#          Should contain minimum 8 characters\n",
    "#          Should contain minimum 1 special Character -[!@#$%^&*]\n",
    "\n",
    "\n",
    "\n",
    "# Input : username : greatlearning\n",
    "#         password : abc123@\n",
    "\n",
    "# Output :\n",
    "#          Password is invalid\n",
    "#          Reason:\n",
    "#          Should contain minimum 8 characters\n",
    "\n",
    "# Input : username : greatlearning\n",
    "#         password : greatlearning\n",
    "\n",
    "# Output :\n",
    "#          Password is invalid\n",
    "#          Reason:\n",
    "#          Should be a Alphanumeric(aleast one alphabet and one number)\n",
    "#          Should contain minimum 1 special\n"
   ]
  },
  {
   "cell_type": "code",
   "execution_count": null,
   "metadata": {},
   "outputs": [],
   "source": [
    "import re\n",
    "\n",
    "line = \"Cats are smarter than dogs\";\n",
    "\n",
    "searchObj = re.search( r'(.*) are (.*?) .*', line, re.M|re.I)\n",
    "\n",
    "if searchObj:\n",
    "   print \"searchObj.group() : \", searchObj.group()\n",
    "   print \"searchObj.group(1) : \", searchObj.group(1)\n",
    "   print \"searchObj.group(2) : \", searchObj.group(2)\n",
    "else:\n",
    "   print \"Nothing found!!\""
   ]
  },
  {
   "cell_type": "code",
   "execution_count": null,
   "metadata": {},
   "outputs": [],
   "source": [
    "Minimum 8 characters\n",
    "# 2) Should be a Alphanumeric(aleast one alphabet and one number)\n",
    "# 3) Should contain minimum 1 special Character -[!@#$%^&*]\n",
    "# 4) password should not be same as the username\n"
   ]
  },
  {
   "cell_type": "code",
   "execution_count": 3,
   "metadata": {},
   "outputs": [
    {
     "name": "stdout",
     "output_type": "stream",
     "text": [
      "Enter username: \n",
      "greatlearning\n",
      "Enter pwd: \n",
      "abc*\n",
      "Password is invalid \n",
      "\n",
      "Reason: \n",
      "\n",
      "Should contain minimum 8 characters \n",
      "\n",
      "Password is invalid \n",
      "\n",
      "Reason: \n",
      "\n",
      "Should be a Alphanumeric(aleast one alphabet and one number) \n",
      "\n",
      "Password is invalid \n",
      "\n",
      "Reason: \n",
      "\n",
      "Should contain minimum 1 special Character \n",
      "\n"
     ]
    },
    {
     "data": {
      "text/plain": [
       "1"
      ]
     },
     "execution_count": 3,
     "metadata": {},
     "output_type": "execute_result"
    }
   ],
   "source": [
    "def length(txt):\n",
    "    if len(txt)>=8:\n",
    "        return 1\n",
    "    \n",
    "    else:\n",
    "        print('Password is invalid \\n')\n",
    "        print('Reason: \\n')\n",
    "        print('Should contain minimum 8 characters \\n')\n",
    "        return 0\n",
    "    \n",
    "def alphanum(txt):\n",
    "    \n",
    "    if txt.isalnum():\n",
    "        return 1\n",
    "    \n",
    "    else:\n",
    "        print('Password is invalid \\n')\n",
    "        print('Reason: \\n')\n",
    "        print('Should be a Alphanumeric(aleast one alphabet and one number) \\n')\n",
    "        return 0\n",
    "    \n",
    "    \n",
    "\n",
    "def special(txt):\n",
    "    for each in txt:\n",
    "        if each in '[!@#$%^&*]':\n",
    "            continue\n",
    "    \n",
    "    else:\n",
    "        print('Password is invalid \\n')\n",
    "        print('Reason: \\n')\n",
    "        print('Should contain minimum 1 special Character \\n')\n",
    "        return 0\n",
    "\n",
    "    return 1\n",
    "\n",
    "    \n",
    "def similar(name, txt):\n",
    "    \n",
    "        if name!=txt:\n",
    "            return 1\n",
    "    \n",
    "        else:\n",
    "            print('Password is invalid \\n')\n",
    "            print('Reason: \\n')\n",
    "            print('password should not be same as the username \\n')\n",
    "            return 0\n",
    "\n",
    "        \n",
    "    \n",
    "    \n",
    "    \n",
    "    \n",
    "    \n",
    "name=input('Enter username: \\n')\n",
    "pwd=input('Enter pwd: \\n')\n",
    "\n",
    "length(pwd)\n",
    "alphanum(pwd)\n",
    "special(pwd)\n",
    "similar(name, pwd)    \n",
    "    "
   ]
  },
  {
   "cell_type": "code",
   "execution_count": null,
   "metadata": {},
   "outputs": [],
   "source": []
  }
 ],
 "metadata": {
  "kernelspec": {
   "display_name": "Python 3",
   "language": "python",
   "name": "python3"
  },
  "language_info": {
   "codemirror_mode": {
    "name": "ipython",
    "version": 3
   },
   "file_extension": ".py",
   "mimetype": "text/x-python",
   "name": "python",
   "nbconvert_exporter": "python",
   "pygments_lexer": "ipython3",
   "version": "3.6.4"
  }
 },
 "nbformat": 4,
 "nbformat_minor": 2
}
