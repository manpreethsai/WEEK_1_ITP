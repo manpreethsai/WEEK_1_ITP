{
 "cells": [
  {
   "cell_type": "markdown",
   "metadata": {
    "colab_type": "text",
    "id": "SVhjWgZfKick"
   },
   "source": [
    "### If Statement:"
   ]
  },
  {
   "cell_type": "raw",
   "metadata": {
    "colab_type": "text",
    "id": "sUlH8iL0Kicl"
   },
   "source": [
    "1. Write a python code to check if 120 is greater than 73 using if statement?"
   ]
  },
  {
   "cell_type": "raw",
   "metadata": {
    "colab_type": "raw",
    "id": "gQnLpodIKicm"
   },
   "source": [
    "Hint:\n",
    "\n",
    "Assign variable a = 73\n",
    "Assign variable b = 120\n",
    "If condition for b>a \n",
    "print'b is greater than a'"
   ]
  },
  {
   "cell_type": "markdown",
   "metadata": {
    "colab_type": "text",
    "id": "pSx3yPicKicn"
   },
   "source": [
    "#### Write Python Code"
   ]
  },
  {
   "cell_type": "code",
   "execution_count": 0,
   "metadata": {
    "colab": {},
    "colab_type": "code",
    "id": "qZlxxjoiKico",
    "outputId": "38bfc3e8-f9ad-4ea9-f2bd-34720e42957e",
    "scrolled": true
   },
   "outputs": [
    {
     "name": "stdout",
     "output_type": "stream",
     "text": [
      "b is greater than a\n"
     ]
    }
   ],
   "source": [
    "a = 73\n",
    "b = 120\n",
    "if b > a:\n",
    "    print(\"b is greater than a\") "
   ]
  },
  {
   "cell_type": "markdown",
   "metadata": {
    "colab_type": "text",
    "id": "-xGAMKLXKicq"
   },
   "source": [
    "### IF-ELSE Statement:"
   ]
  },
  {
   "cell_type": "raw",
   "metadata": {
    "colab_type": "text",
    "id": "R347ogw4Kicr"
   },
   "source": [
    "1. Write a python code which can take two numbers a = 123,b = 133 and print the biggest number\n",
    "    condition 1 : b>a\n",
    "    condition 2 : else\n",
    "    print which is correct"
   ]
  },
  {
   "cell_type": "raw",
   "metadata": {
    "colab_type": "raw",
    "id": "O2SR_fTJKics"
   },
   "source": [
    "Hint:\n",
    "\n",
    "Assign variable a = 123\n",
    "Assign variable b = 133\n",
    "if condition b>a \n",
    "print b is greater than a\n",
    "print b is less than a"
   ]
  },
  {
   "cell_type": "markdown",
   "metadata": {
    "colab_type": "text",
    "id": "S_KYefaRKict"
   },
   "source": [
    "#### Write Python Code"
   ]
  },
  {
   "cell_type": "code",
   "execution_count": 0,
   "metadata": {
    "colab": {},
    "colab_type": "code",
    "id": "9SHA5eUvKicu",
    "outputId": "7ffc728f-9d4f-4ed8-81b4-ea8c827691d0"
   },
   "outputs": [
    {
     "name": "stdout",
     "output_type": "stream",
     "text": [
      "b is greater than a\n"
     ]
    }
   ],
   "source": [
    "a = 123\n",
    "b = 133\n",
    "if b > a:\n",
    "      print(\"b is greater than a\")\n",
    "else:\n",
    "      print(\"b is less than a\")"
   ]
  },
  {
   "cell_type": "markdown",
   "metadata": {
    "colab_type": "text",
    "id": "ef5bP4RfKicw"
   },
   "source": [
    "### Nested-If Statement"
   ]
  },
  {
   "cell_type": "raw",
   "metadata": {
    "colab_type": "text",
    "id": "IR3qjC7IKicx"
   },
   "source": [
    "1. Write a python code that takes an input from the user and shows if that number is positive or negative. Also, check if the number is two digit. "
   ]
  },
  {
   "cell_type": "raw",
   "metadata": {
    "colab_type": "raw",
    "id": "a7Wy2rboKicx"
   },
   "source": [
    "Hint:\n",
    "\n",
    "Assign the num equal to 12\n",
    "if condition num>0 the go to step 3, else go to step 4\n",
    "print the number positive\n",
    "print the number is negative\n",
    "Another if condition is -99<=num then go to step 6\n",
    "print two digit negative number"
   ]
  },
  {
   "cell_type": "markdown",
   "metadata": {
    "colab_type": "text",
    "id": "OYCDVM7vKicy"
   },
   "source": [
    "#### Write Python Code"
   ]
  },
  {
   "cell_type": "code",
   "execution_count": 0,
   "metadata": {
    "colab": {},
    "colab_type": "code",
    "id": "EwSsfkufKicz",
    "outputId": "7d061f83-7b0e-4d80-9ccc-ce678b23ed2a"
   },
   "outputs": [
    {
     "name": "stdout",
     "output_type": "stream",
     "text": [
      "Negative Number\n",
      "Two digit Negative Number\n"
     ]
    }
   ],
   "source": [
    "num = -12\n",
    "if num > 0:\n",
    "    print(\"Positive Number\")\n",
    "else:\n",
    "    print(\"Negative Number\")\n",
    "    #nested if\n",
    "    if -99<=num:\n",
    "        print(\"Two digit Negative Number\")"
   ]
  },
  {
   "cell_type": "markdown",
   "metadata": {
    "colab_type": "text",
    "id": "8D2pOpwaKic1"
   },
   "source": [
    "## While Loop"
   ]
  },
  {
   "cell_type": "raw",
   "metadata": {
    "colab_type": "text",
    "id": "8hMtgVCCKic2"
   },
   "source": [
    "1. Write a pseudocode to give the below output\n",
    "    Input:10\n",
    "    Output:0,1,4,9,16,25,36,49,64,81"
   ]
  },
  {
   "cell_type": "raw",
   "metadata": {
    "colab_type": "raw",
    "id": "_XPm6W9kKic2"
   },
   "source": [
    "Hint:\n",
    "\n",
    "Take variable 'a' = 0\n",
    "while condition 'a' less \n",
    "    print condition is a**2\n",
    "    create increment 'a' equal to a+1\n"
   ]
  },
  {
   "cell_type": "markdown",
   "metadata": {
    "colab_type": "text",
    "id": "xocif9GDKic3"
   },
   "source": [
    "#### Write Python Code"
   ]
  },
  {
   "cell_type": "code",
   "execution_count": 0,
   "metadata": {
    "colab": {},
    "colab_type": "code",
    "id": "-1YXqEZIKic3",
    "outputId": "74ebfef4-8307-47d7-e34d-86f80d537a5a"
   },
   "outputs": [
    {
     "name": "stdout",
     "output_type": "stream",
     "text": [
      "0\n",
      "1\n",
      "4\n",
      "9\n",
      "16\n",
      "25\n",
      "36\n",
      "49\n",
      "64\n",
      "81\n"
     ]
    }
   ],
   "source": [
    "a = 0;\n",
    "while  a < 10 :\n",
    "    print (a**2)\n",
    "    a = a + 1"
   ]
  },
  {
   "cell_type": "markdown",
   "metadata": {
    "colab_type": "text",
    "id": "1GSoyHPlKic5"
   },
   "source": [
    "## For Loop"
   ]
  },
  {
   "cell_type": "raw",
   "metadata": {
    "colab_type": "text",
    "id": "gWkANkJmKic6"
   },
   "source": [
    "1. Using a range of 1 to 100 numbers, find out the sum of all the numbers. \n",
    "    e.g: (1,100):1+2+3+4+5......+100 = 4950"
   ]
  },
  {
   "cell_type": "raw",
   "metadata": {
    "colab_type": "raw",
    "id": "1BmF_REDKic7"
   },
   "source": [
    "Hint:\n",
    "\n",
    "Assign the sum eqaul to 0\n",
    "For condition in range (1,100) \n",
    "sum = sum+value\n",
    "print the sum"
   ]
  },
  {
   "cell_type": "markdown",
   "metadata": {
    "colab_type": "text",
    "id": "iPiYnfmZKic7"
   },
   "source": [
    "#### Python Code"
   ]
  },
  {
   "cell_type": "code",
   "execution_count": 0,
   "metadata": {
    "colab": {},
    "colab_type": "code",
    "id": "mHn9r7fKKic-",
    "outputId": "8ade7989-a959-4a80-8785-0347388e4354"
   },
   "outputs": [
    {
     "name": "stdout",
     "output_type": "stream",
     "text": [
      "4950\n"
     ]
    }
   ],
   "source": [
    "sum = 0\n",
    "# iterating over natural numbers using range()\n",
    "for value in range(1, 100):\n",
    "    # calculating sum\n",
    "    sum = sum + value\n",
    "# displaying sum of first 5 natural numbers\n",
    "print(sum)"
   ]
  },
  {
   "cell_type": "markdown",
   "metadata": {
    "colab_type": "text",
    "id": "WSqKo1Q9KidA"
   },
   "source": [
    "### More Practice Questions"
   ]
  },
  {
   "cell_type": "raw",
   "metadata": {
    "colab_type": "text",
    "id": "4lvQQAM1KidB"
   },
   "source": [
    "1. Write a program which will find all such numbers which are divisible by 7 but are not a multiple of 5, between 202 and 320 (both included)."
   ]
  },
  {
   "cell_type": "code",
   "execution_count": 0,
   "metadata": {
    "colab": {},
    "colab_type": "code",
    "id": "_OTGuPZoKidB",
    "outputId": "b3aca218-4e1b-46d8-fe42-12357b75aabe"
   },
   "outputs": [
    {
     "name": "stdout",
     "output_type": "stream",
     "text": [
      "203,217,224,231,238,252,259,266,273,287,294,301,308\n"
     ]
    }
   ],
   "source": [
    "Emty_list=[]\n",
    "for i in range(202, 321):\n",
    "    if (i%7==0) and (i%5!=0):\n",
    "        Emty_list.append(str(i))\n",
    "\n",
    "print(','.join(Emty_list))"
   ]
  },
  {
   "cell_type": "raw",
   "metadata": {
    "colab_type": "text",
    "id": "xOD58Pl_KidD"
   },
   "source": [
    "2. With a given integral number n, write a program to generate a dictionary that contains the elements (i, i*i) \n",
    "    input:9\n",
    "\n",
    "    Output: {1: 1, 2: 4, 3: 9, 4: 16, 5: 25, 6: 36, 7: 49, 8: 64, 9: 81, 10: 100}"
   ]
  },
  {
   "cell_type": "code",
   "execution_count": 0,
   "metadata": {
    "colab": {},
    "colab_type": "code",
    "id": "tNpTNmKoKidD",
    "outputId": "757d1ff0-f999-49bd-e43a-535656a23b04"
   },
   "outputs": [
    {
     "name": "stdout",
     "output_type": "stream",
     "text": [
      "10\n"
     ]
    },
    {
     "data": {
      "text/plain": [
       "{1: 1, 2: 4, 3: 9, 4: 16, 5: 25, 6: 36, 7: 49, 8: 64, 9: 81, 10: 100}"
      ]
     },
     "execution_count": 45,
     "metadata": {
      "tags": []
     },
     "output_type": "execute_result"
    }
   ],
   "source": [
    "n=int(input())\n",
    "d=dict()\n",
    "for i in range(1,n+1):\n",
    "    d[i]=i*i\n",
    "d"
   ]
  },
  {
   "cell_type": "raw",
   "metadata": {
    "colab_type": "text",
    "id": "lOFckiOoKidG"
   },
   "source": [
    "3. Python Program to count the number of vowels in a string. Take the string input from the user."
   ]
  },
  {
   "cell_type": "code",
   "execution_count": 0,
   "metadata": {
    "colab": {},
    "colab_type": "code",
    "id": "Vab3JDLDKidG",
    "outputId": "2d92fdcc-9604-46c2-b16a-138f9bf23e69"
   },
   "outputs": [
    {
     "name": "stdout",
     "output_type": "stream",
     "text": [
      "Enter string:a\n",
      "Number of vowels are:\n",
      "1\n"
     ]
    }
   ],
   "source": [
    "string=input(\"Enter string:\")\n",
    "vowels=0\n",
    "for i in string:\n",
    "      if(i=='a' or i=='e' or i=='i' or i=='o' or i=='u' or i=='A' or i=='E' or i=='I' or i=='O' or i=='U'):\n",
    "            vowels=vowels+1\n",
    "print(\"Number of vowels are:\")\n",
    "print(vowels)"
   ]
  },
  {
   "cell_type": "markdown",
   "metadata": {
    "colab_type": "text",
    "id": "c_4M3rVTKidI"
   },
   "source": [
    "### List comprehension"
   ]
  },
  {
   "cell_type": "raw",
   "metadata": {
    "colab_type": "text",
    "id": "ii57yDasKidJ"
   },
   "source": [
    "1. Use list comprehension to sort a given list of strings\n",
    "    Input: Great,learning,ML,world,python,Sql\n",
    "    Output: Great,ML,Sql,learning,python,world"
   ]
  },
  {
   "cell_type": "code",
   "execution_count": 0,
   "metadata": {
    "colab": {
     "base_uri": "https://localhost:8080/",
     "height": 51
    },
    "colab_type": "code",
    "executionInfo": {
     "elapsed": 18871,
     "status": "ok",
     "timestamp": 1574750246095,
     "user": {
      "displayName": "Meena Vardhini",
      "photoUrl": "https://lh3.googleusercontent.com/a-/AAuE7mBoDnumpWnntnm7ZaDcGT4ud0BU1i2eQT567DakSw=s64",
      "userId": "11929284459054251237"
     },
     "user_tz": -330
    },
    "id": "yE-YCVidKidJ",
    "outputId": "39b5ea28-91eb-47a4-a214-ba8769cadcb4"
   },
   "outputs": [
    {
     "name": "stdout",
     "output_type": "stream",
     "text": [
      "Meena,Shruthi,Priya,Ann\n",
      "Ann,Meena,Priya,Shruthi\n"
     ]
    }
   ],
   "source": [
    "items=[x for x in input().split(',')]\n",
    "items.sort()\n",
    "print(','.join(items))"
   ]
  },
  {
   "cell_type": "raw",
   "metadata": {
    "colab_type": "text",
    "id": "Wg90m0d3KidL"
   },
   "source": [
    "2. list comprehension\n",
    "\n",
    "    INPUT: 1,2,3,4,5,6\n",
    "\n",
    "    Output should be: 1,3,5"
   ]
  },
  {
   "cell_type": "code",
   "execution_count": 0,
   "metadata": {
    "colab": {},
    "colab_type": "code",
    "id": "Tc6aTFKIKidM",
    "outputId": "2172e9d5-871e-4577-e9ad-7b2075f6a358"
   },
   "outputs": [
    {
     "name": "stdout",
     "output_type": "stream",
     "text": [
      " 1,2,3,4,5,6\n",
      " 1,3,5\n"
     ]
    }
   ],
   "source": [
    "values = input()\n",
    "numbers = [x for x in values.split(\",\") if int(x)%2!=0]\n",
    "print(\",\".join(numbers))"
   ]
  }
 ],
 "metadata": {
  "colab": {
   "collapsed_sections": [],
   "name": "Python-TakeHome-DAY3.ipynb",
   "provenance": []
  },
  "kernelspec": {
   "display_name": "Python 3",
   "language": "python",
   "name": "python3"
  },
  "language_info": {
   "codemirror_mode": {
    "name": "ipython",
    "version": 3
   },
   "file_extension": ".py",
   "mimetype": "text/x-python",
   "name": "python",
   "nbconvert_exporter": "python",
   "pygments_lexer": "ipython3",
   "version": "3.7.3"
  }
 },
 "nbformat": 4,
 "nbformat_minor": 1
}
